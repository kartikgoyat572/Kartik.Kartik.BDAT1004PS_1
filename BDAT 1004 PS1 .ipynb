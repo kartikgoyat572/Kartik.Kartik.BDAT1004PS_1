{
 "cells": [
  {
   "cell_type": "markdown",
   "id": "201d73a0",
   "metadata": {},
   "source": [
    "# Question 1\n",
    "\n",
    "What data type is each of the following (evaluate where necessary)?\n",
    "5 \n",
    "5.0\n",
    "5 > 1\n",
    "'5'\n",
    "5 * 2\n",
    "'5' * 2\n",
    "'5' + '2'\n",
    "5 / 2\n",
    "5 % 2\n",
    "{5, 2, 1}\n",
    "5 == 3\n",
    "Pi (the number)"
   ]
  },
  {
   "cell_type": "markdown",
   "id": "4263db9d",
   "metadata": {},
   "source": [
    "5         -----> Int\n",
    "\n",
    "5.0       -----> Float\n",
    "\n",
    "(5 > 1)   -----> Boolean\n",
    "\n",
    "'5'       -----> String\n",
    "\n",
    "5 * 2     -----> int\n",
    "\n",
    "'5' * 2   -----> string\n",
    "\n",
    "'5' + '2' -----> string\n",
    "\n",
    "5 / 2     -----> float\n",
    "\n",
    "5 % 2     -----> int\n",
    "\n",
    "{5, 2, 1} -----> set\n",
    "\n",
    "5 == 3    -----> boolean\n",
    "\n",
    "pi(3.14)  -----> float"
   ]
  },
  {
   "cell_type": "markdown",
   "id": "bf115db0",
   "metadata": {},
   "source": [
    "#  Question 2\n",
    "\n",
    "Write (and evaluate) python expressions that answer these questions:\n",
    "a. How many letters are there in 'Supercalifragilisticexpialidocious'?\n",
    "b. Does 'Supercalifragilisticexpialidocious' contain 'ice' as a substring? \n",
    "c. Which of the following words is the longest: \n",
    "Supercalifragilisticexpialidocious, Honorificabilitudinitatibus, or \n",
    "Bababadalgharaghtakamminarronnkonn? \n",
    "d. Which composer comes first in the dictionary: 'Berlioz', 'Borodin', 'Brian', \n",
    "'Bartok', 'Bellini', 'Buxtehude', 'Bernstein'. Which one comes last?"
   ]
  },
  {
   "cell_type": "markdown",
   "id": "fa7a59ad",
   "metadata": {},
   "source": [
    "### Sol 2a:"
   ]
  },
  {
   "cell_type": "code",
   "execution_count": 8,
   "id": "e8ad832a",
   "metadata": {},
   "outputs": [
    {
     "name": "stdout",
     "output_type": "stream",
     "text": [
      "34\n"
     ]
    }
   ],
   "source": [
    "string = \"Supercalifragilisticexpialidocious\"\n",
    "count = 0\n",
    "for i in string:\n",
    "    count += 1\n",
    "print(count)"
   ]
  },
  {
   "cell_type": "markdown",
   "id": "355aff8c",
   "metadata": {},
   "source": [
    "### Sol 2b:"
   ]
  },
  {
   "cell_type": "code",
   "execution_count": 9,
   "id": "7ddcab96",
   "metadata": {},
   "outputs": [
    {
     "name": "stdout",
     "output_type": "stream",
     "text": [
      "Yes\n"
     ]
    }
   ],
   "source": [
    "string = 'Supercalifragilisticexpialidocious'\n",
    "substring = \"ice\"\n",
    "if substring in string:\n",
    "    print(\"Yes\")\n",
    "else: \n",
    "    print(\"No\")"
   ]
  },
  {
   "cell_type": "markdown",
   "id": "89c524a6",
   "metadata": {},
   "source": [
    "### Sol 2c:"
   ]
  },
  {
   "cell_type": "code",
   "execution_count": 10,
   "id": "5a53bb9a",
   "metadata": {},
   "outputs": [
    {
     "name": "stdout",
     "output_type": "stream",
     "text": [
      "Bababadalgharaghtakamminarronnkonn is the longest\n"
     ]
    }
   ],
   "source": [
    "word1 = \"Supercalifragilisticexpialidocious\"\n",
    "word2 = \"Honorificabilitudinitatibus\"\n",
    "word3 = \"Bababadalgharaghtakamminarronnkonn\"\n",
    "length_word1 = len(word1)\n",
    "length_word2 = len(word2)\n",
    "length_word3 = len(word3)\n",
    "if length_word1 > (length_word2 and length_word3):\n",
    "    print(word1 + \" is the longest\")\n",
    "elif length_word2 > (length_word1 and length_word3):\n",
    "    print(word2 + \" is the longest\")\n",
    "else:\n",
    "    print(word3 + \" is the longest\")"
   ]
  },
  {
   "cell_type": "markdown",
   "id": "9adbf453",
   "metadata": {},
   "source": [
    "### Sol 2d:"
   ]
  },
  {
   "cell_type": "code",
   "execution_count": 15,
   "id": "3687e08a",
   "metadata": {},
   "outputs": [
    {
     "name": "stdout",
     "output_type": "stream",
     "text": [
      "Bartok comes first.\n",
      "Buxtehude comes in last.\n"
     ]
    }
   ],
   "source": [
    "list_composer = ['Berlioz', 'Borodin', 'Brian', 'Bartok', 'Bellini', 'Buxtehude', 'Bernstein']\n",
    "list_composer.sort()\n",
    "print(list_composer[0] + \" comes first.\")\n",
    "print(list_composer[-1] + \" comes in last.\")"
   ]
  },
  {
   "cell_type": "markdown",
   "id": "a2adfe30",
   "metadata": {},
   "source": [
    "# Question 3\n",
    "Implement function triangleArea(a,b,c) that takes as input the lengths of the 3\n",
    "sides of a triangle and returns the area of the triangle. By Heron's formula, the area \n",
    "of a triangle with side lengths a, b, and c is\n",
    "sqrt(s(s - a)(s -b)(s -c)), where \n",
    "s = (a+b+c)/2. \n",
    ">>> triangleArea(2,2,2)\n",
    "1.7320508075688772"
   ]
  },
  {
   "cell_type": "code",
   "execution_count": 19,
   "id": "c32dab16",
   "metadata": {},
   "outputs": [
    {
     "data": {
      "text/plain": [
       "1.7320508075688772"
      ]
     },
     "execution_count": 19,
     "metadata": {},
     "output_type": "execute_result"
    }
   ],
   "source": [
    "from math import sqrt\n",
    "def triangleArea(a,b,c):\n",
    "    s = (a+b+c)/2\n",
    "    area = sqrt(s*(s-a)*(s-b)*(s-c))\n",
    "    return area\n",
    "triangleArea(2,2,2)"
   ]
  },
  {
   "cell_type": "markdown",
   "id": "dba00d85",
   "metadata": {},
   "source": [
    "# Question 4\n",
    "Write a program in python to separate odd and even integers in separate arrays. Go \n",
    "to the editor\n",
    "Test Data :\n",
    "Input the number of elements to be stored in the array :5\n",
    "Input 5 elements in the array :\n",
    "element - 0 : 25\n",
    "element - 1 : 47\n",
    "element - 2 : 42\n",
    "element - 3 : 56\n",
    "element - 4 : 32\n",
    "Expected Output:\n",
    "The Even elements are:\n",
    "42 56 32\n",
    "The Odd elements are :\n",
    "25 47"
   ]
  },
  {
   "cell_type": "code",
   "execution_count": 24,
   "id": "aec1b5b7",
   "metadata": {},
   "outputs": [
    {
     "name": "stdout",
     "output_type": "stream",
     "text": [
      "Enter the number of elements to be stored:  5\n",
      "element - 0 : 25\n",
      "element - 1 : 47\n",
      "element - 2 : 42\n",
      "element - 3 : 56\n",
      "element - 4 : 32\n",
      "The Even elements are: \n",
      "[42, 56, 32]\n",
      "The Odd elements are: \n",
      "[25, 47]\n"
     ]
    }
   ],
   "source": [
    "size = int(input(\"Enter the number of elements to be stored:  \"))\n",
    "arr_even = []\n",
    "arr_odd = []\n",
    "for i in range(size):\n",
    "    element = int(input(f\"element - {i} : \"))\n",
    "    if element % 2 == 0:\n",
    "        arr_even.append(element)\n",
    "    else:\n",
    "        arr_odd.append(element)\n",
    "print(\"The Even elements are: \")\n",
    "print(arr_even)\n",
    "print(\"The Odd elements are: \")\n",
    "print(arr_odd)\n",
    "    "
   ]
  },
  {
   "cell_type": "markdown",
   "id": "eff3cd72",
   "metadata": {},
   "source": [
    "# Question 5 \n",
    "a. Write a function inside(x,y,x1,y1,x2,y2) that returns True or False \n",
    "depending on whether the point (x,y) lies in the rectangle with lower left \n",
    "corner (x1,y1) and upper right corner (x2,y2).\n",
    ">>> inside(1,1,0,0,2,3)\n",
    "True\n",
    ">>> inside(-1,-1,0,0,2,3)\n",
    "False\n",
    "\n",
    "b. Use function inside() from part a. to write an expression that tests whether \n",
    "the point (1,1) lies in both of the following rectangles: one with lower left \n",
    "corner (0.3, 0.5) and upper right corner (1.1, 0.7) and the other with lower \n",
    "left corner (0.5, 0.2) and upper right corner (1.1, 2). "
   ]
  },
  {
   "cell_type": "markdown",
   "id": "81ccb3ed",
   "metadata": {},
   "source": [
    "### Sol 5a"
   ]
  },
  {
   "cell_type": "code",
   "execution_count": 50,
   "id": "0498ee82",
   "metadata": {},
   "outputs": [],
   "source": [
    "def inside(x,y,x1,y1,x2,y2):\n",
    "    if (x>=x1) and (x<=x2):\n",
    "        if (y>=y1) and (y<=y2):\n",
    "            return True\n",
    "    else:\n",
    "        return False\n"
   ]
  },
  {
   "cell_type": "code",
   "execution_count": 51,
   "id": "9773efb6",
   "metadata": {},
   "outputs": [
    {
     "data": {
      "text/plain": [
       "True"
      ]
     },
     "execution_count": 51,
     "metadata": {},
     "output_type": "execute_result"
    }
   ],
   "source": [
    "inside(1,1,0,0,2,3)"
   ]
  },
  {
   "cell_type": "code",
   "execution_count": 52,
   "id": "48fd997d",
   "metadata": {},
   "outputs": [
    {
     "data": {
      "text/plain": [
       "False"
      ]
     },
     "execution_count": 52,
     "metadata": {},
     "output_type": "execute_result"
    }
   ],
   "source": [
    "inside(-1,-1,0,0,2,3)"
   ]
  },
  {
   "cell_type": "markdown",
   "id": "6fbbb82e",
   "metadata": {},
   "source": [
    "### Sol 5b"
   ]
  },
  {
   "cell_type": "code",
   "execution_count": 56,
   "id": "2b400bc0",
   "metadata": {},
   "outputs": [
    {
     "data": {
      "text/plain": [
       "False"
      ]
     },
     "execution_count": 56,
     "metadata": {},
     "output_type": "execute_result"
    }
   ],
   "source": [
    "rect1_x1 = 0.3\n",
    "rect1_y1 = 0.5\n",
    "rect1_x2 = 1.1\n",
    "rect1_y2 = 0.7\n",
    "\n",
    "inside(1,1,rect1_x1,rect1_y1,rect1_x2,rect1_y2)"
   ]
  },
  {
   "cell_type": "code",
   "execution_count": 59,
   "id": "84d09ffe",
   "metadata": {},
   "outputs": [
    {
     "data": {
      "text/plain": [
       "False"
      ]
     },
     "execution_count": 59,
     "metadata": {},
     "output_type": "execute_result"
    }
   ],
   "source": [
    "rect2_x1 = 0.5\n",
    "rect2_y1 = 0.2\n",
    "rect2_x2 = 1.1\n",
    "rect2_y2 = 2\n",
    "inside(1,1,rect2_x1,rect2_y1,rect2_x2,rect2_y2)"
   ]
  },
  {
   "cell_type": "markdown",
   "id": "12cb64f0",
   "metadata": {},
   "source": [
    "# Question 6\n",
    "You can turn a word into pig-Latin using the following two rules (simplified):\n",
    "• If the word starts with a consonant, move that letter to the end and append \n",
    "'ay'. For example, 'happy' becomes 'appyhay' and 'pencil' becomes 'encilpay'.\n",
    "• If the word starts with a vowel, simply append 'way' to the end of the word. \n",
    "For example, 'enter' becomes 'enterway' and 'other' becomes 'otherway' . For \n",
    "our purposes, there are 5 vowels: a, e, i, o, u (so we count y as a consonant).\n",
    "Write a function pig() that takes a word (i.e., a string) as input and returns its pig\u0002Latin form. Your function should still work if the input word contains upper case \n",
    "characters. Your output should always be lower case however. \n",
    ">>> pig('happy')\n",
    "'appyhay'\n",
    ">>> pig('Enter')\n",
    "'enterway' \n"
   ]
  },
  {
   "cell_type": "code",
   "execution_count": 60,
   "id": "1bd81afe",
   "metadata": {},
   "outputs": [
    {
     "name": "stdout",
     "output_type": "stream",
     "text": [
      "happy\n",
      "appyhay\n"
     ]
    }
   ],
   "source": [
    "def pig(word):\n",
    "    constant_word = 'ay'\n",
    "    vowel_word = 'way'\n",
    "    if word[0].lower() not in ['a','e','i','o','u',]: \n",
    "        first_word = word[0]\n",
    "        word = word[1:]\n",
    "        new_word = word + first_word + constant_word\n",
    "    else:\n",
    "        new_word = word + vowel_word\n",
    "    return new_word\n",
    "\n",
    "word = input()\n",
    "print(pig(word))"
   ]
  },
  {
   "cell_type": "markdown",
   "id": "5031c9ef",
   "metadata": {},
   "source": [
    "# Question 7\n",
    "File bloodtype1.txt records blood-types of patients (A, B, AB, O or OO) at a clinic. \n",
    "Write a function bldcount() that reads the file with name name and reports (i.e., \n",
    "prints) how many patients there are in each bloodtype.\n",
    ">>> bldcount('bloodtype.txt')\n",
    "There are 10 patients of blood type A.\n",
    "There is one patient of blood type B.\n",
    "There are 10 patients of blood type AB.\n",
    "There are 12 patients of blood type O.\n",
    "There are no patients of blood type OO."
   ]
  },
  {
   "cell_type": "code",
   "execution_count": 61,
   "id": "40c6a622",
   "metadata": {},
   "outputs": [
    {
     "name": "stdout",
     "output_type": "stream",
     "text": [
      "There are 15 patients of blood type A\n",
      "There are 1 patients of blood type B\n",
      "There are 13 patients of blood type AB\n",
      "There are 15 patients of blood type O\n",
      "There are 0 patients of blood type OO\n"
     ]
    }
   ],
   "source": [
    "def bldcount(filename):\n",
    "    file = open(filename, 'r')\n",
    "    list1 = file.read().split()\n",
    "    A_count = 0\n",
    "    B_count = 0\n",
    "    AB_count = 0\n",
    "    O_count = 0\n",
    "    OO_count = 0\n",
    "\n",
    "\n",
    "    for bloodtype in list1:\n",
    "        if bloodtype == 'A':\n",
    "            A_count += 1\n",
    "        elif bloodtype == 'B':\n",
    "            B_count += 1\n",
    "        elif bloodtype == 'AB':\n",
    "            AB_count += 1\n",
    "        elif bloodtype == 'O':\n",
    "            O_count += 1\n",
    "        elif bloodtype == 'OO':\n",
    "            OO_count += 1\n",
    "\n",
    "    file.close()\n",
    "\n",
    "    print(f'There are {A_count} patients of blood type A')\n",
    "    print(f'There are {B_count} patients of blood type B')\n",
    "    print(f'There are {AB_count} patients of blood type AB')\n",
    "    print(f'There are {O_count} patients of blood type O')\n",
    "    print(f'There are {OO_count} patients of blood type OO')\n",
    "\n",
    "\n",
    "\n",
    "bldcount('bloodtype1.txt')"
   ]
  },
  {
   "cell_type": "markdown",
   "id": "cfeefff4",
   "metadata": {},
   "source": [
    "# Question 8\n",
    "Write a function curconv() that takes as input:\n",
    "1. a currency represented using a string (e.g., 'JPY' for the Japanese Yen or \n",
    "'EUR' for the Euro)\n",
    "2. an amount\n",
    "and then converts and returns the amount in US dollars.\n",
    ">>> curconv('EUR', 100)\n",
    "122.96544\n",
    ">>> curconv('JPY', 100)\n",
    "1.241401\n",
    "The currency rates you will need are stored in file currencies.txt:"
   ]
  },
  {
   "cell_type": "code",
   "execution_count": 62,
   "id": "fe3f8cee",
   "metadata": {},
   "outputs": [
    {
     "name": "stdout",
     "output_type": "stream",
     "text": [
      "122.96544\n",
      "1.241401\n"
     ]
    }
   ],
   "source": [
    "def curconv(cur, amount):\n",
    "    file1 = open('currencies.txt', 'r')\n",
    "    list_1 = file1.readlines()  \n",
    "\n",
    "\n",
    "    for i in list_1:\n",
    "        words = i.split()  \n",
    "        if words[0] == cur:\n",
    "            usd = amount * float(words[1])\n",
    "\n",
    "    file1.close()\n",
    "    return usd\n",
    "\n",
    "print(curconv('EUR', 100))\n",
    "print(curconv('JPY', 100))"
   ]
  },
  {
   "cell_type": "markdown",
   "id": "da58bc31",
   "metadata": {},
   "source": [
    "# Question 9\n",
    "Each of the following will cause an exception (an error). Identify what type of exception each will cause.\n",
    "\n",
    "Trying to add incompatible variables, as in \n",
    "adding 6 + ‘a’ \n",
    "\n",
    "Referring to the 12th item of a list that has only 10 items\n",
    "\n",
    "Using a value that is out of range for a function’s \n",
    "input, such as calling math.sqrt(-1.0)\n",
    "\n",
    "Using an undeclared variable, such as print(x)\n",
    "when x has not been defined \n",
    "\n",
    "Trying to open a file that does not exist, such as \n",
    "mistyping the file name or looking in the wrong \n",
    "directory."
   ]
  },
  {
   "cell_type": "markdown",
   "id": "1c443fa5",
   "metadata": {},
   "source": [
    "#### Solution\n",
    "\n",
    "6 + 'a'   ------> TypeError\n",
    "\n",
    "Referring to the 12th item of a list that has only 10 items -------->  IndexError\n",
    "\n",
    "Using a value that is out of range for a function’s input, such as calling math.sqrt(-1.0)     ------->  ValueError\n",
    "\n",
    "Using an undeclared variable, such as print(x) when x has not been defined  ------->  NameError\n",
    "\n",
    "Trying to open a file that does not exist, such as mistyping the file name or looking in the wrong directory.  ----->  FileNotFoundError\n"
   ]
  },
  {
   "cell_type": "markdown",
   "id": "f365acdb",
   "metadata": {},
   "source": [
    "# Question 10\n",
    "Encryption is the process of hiding the meaning of a text by substituting letters in the \n",
    "message with other letters, according to some system. If the process is successful, no \n",
    "one but the intended recipient can understand the encrypted message. Cryptanalysis\n",
    "refers to attempts to undo the encryption, even if some details of the encryption are \n",
    "unknown (for example, if an encrypted message has been intercepted). The first step \n",
    "of cryptanalysis is often to build up a table of letter frequencies in the encrypted text. \n",
    "Assume that the string letters is already defined as \n",
    "'abcdefghijklmnopqrstuvwxyz'. Write a function called frequencies()\n",
    "that takes a string as its only parameter, and returns a list of integers, showing the \n",
    "number of times each character appears in the text. Your function may ignore any \n",
    "characters that are not in letters. "
   ]
  },
  {
   "cell_type": "code",
   "execution_count": 70,
   "id": "eb40539e",
   "metadata": {},
   "outputs": [],
   "source": [
    "def frequencies(string):\n",
    "    # set of alphabets\n",
    "    alphabets = ('a', 'b', 'c', 'd', 'e', 'f', 'g', 'h', 'i', 'j', 'k', 'l', 'm', 'n', 'o', 'p', 'q', 'r', 's', 't', 'u', 'v', 'w', 'x', 'y', 'z')\n",
    "    l = [] # empty list to\n",
    "    d = {}  # empty dictionary to store characters from string\n",
    "    for word in string: # iterating over string alphabets\n",
    "        for char in word:\n",
    "            l.append(char)\n",
    "    for char in alphabets:\n",
    "        if char in l:\n",
    "            d[char] = l.count(char)\n",
    "        else:\n",
    "            d[char] = 0\n",
    "\n",
    "    print(list(d.values()))"
   ]
  },
  {
   "cell_type": "code",
   "execution_count": 71,
   "id": "95938676",
   "metadata": {},
   "outputs": [
    {
     "name": "stdout",
     "output_type": "stream",
     "text": [
      "[1, 1, 1, 3, 5, 1, 1, 2, 1, 0, 1, 0, 1, 2, 4, 0, 1, 2, 0, 2, 1, 0, 1, 1, 0, 0]\n"
     ]
    }
   ],
   "source": [
    "frequencies('The quick red fox got bored and went home.')"
   ]
  },
  {
   "cell_type": "code",
   "execution_count": 73,
   "id": "5764313b",
   "metadata": {},
   "outputs": [
    {
     "name": "stdout",
     "output_type": "stream",
     "text": [
      "[1, 0, 0, 0, 1, 0, 0, 0, 0, 0, 0, 1, 0, 0, 0, 2, 0, 0, 0, 0, 0, 0, 0, 0, 0, 0]\n"
     ]
    }
   ],
   "source": [
    "frequencies('apple')"
   ]
  },
  {
   "cell_type": "code",
   "execution_count": null,
   "id": "63848f8c",
   "metadata": {},
   "outputs": [],
   "source": []
  }
 ],
 "metadata": {
  "kernelspec": {
   "display_name": "Python 3 (ipykernel)",
   "language": "python",
   "name": "python3"
  },
  "language_info": {
   "codemirror_mode": {
    "name": "ipython",
    "version": 3
   },
   "file_extension": ".py",
   "mimetype": "text/x-python",
   "name": "python",
   "nbconvert_exporter": "python",
   "pygments_lexer": "ipython3",
   "version": "3.11.5"
  }
 },
 "nbformat": 4,
 "nbformat_minor": 5
}
